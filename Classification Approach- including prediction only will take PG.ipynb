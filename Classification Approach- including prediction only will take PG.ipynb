{
 "cells": [
  {
   "cell_type": "markdown",
   "metadata": {},
   "source": [
    "## Pre-processing"
   ]
  },
  {
   "cell_type": "code",
   "execution_count": 9,
   "metadata": {},
   "outputs": [
    {
     "name": "stdout",
     "output_type": "stream",
     "text": [
      "size of dataframe: (24017, 108)\n",
      "X has size: (5437, 107)  and y has size: (5437, 2)\n"
     ]
    }
   ],
   "source": [
    "import numpy as np\n",
    "import pandas as pd\n",
    "\n",
    "UG_courses = [\"BOA\",\"BOB\",\"BOC\",\"BOE\",\"BSC\"]\n",
    "Df = pd.read_csv(\"synthetic_Data_truncated_normal_approach2.csv\")\n",
    "print(\"size of dataframe:\",Df.shape)\n",
    "Df[\"COURSE_CODE\"] = Df[\"COURSE_CODE\"].fillna('not_taking')\n",
    "Df = Df[Df.columns].fillna('0')\n",
    "Df.isnull().sum().sum()\n",
    "\n",
    "Df = Df.loc[Df['COURSE_CODE'] != 'not_taking']\n",
    "Df = Df.reset_index()\n",
    "X = Df[Df.columns.difference(['CODE_DESCR_mast','COURSE_CODE'])]\n",
    "y = Df[['CODE_DESCR_mast','COURSE_CODE']]\n",
    "print(\"X has size:\",X.shape, \" and y has size:\",y.shape)\n"
   ]
  },
  {
   "cell_type": "code",
   "execution_count": 24,
   "metadata": {},
   "outputs": [
    {
     "name": "stdout",
     "output_type": "stream",
     "text": [
      "X has size: (5437, 107)\n"
     ]
    }
   ],
   "source": [
    "## select column that needs to do binary encoding \n",
    "subject_course_list = []\n",
    "for course in UG_courses:\n",
    "    for i in range(0,16):\n",
    "        subject_course_list += [course+'subject'+str(i+1)]\n",
    "profile_title_list = X.columns.difference(subject_course_list)\n",
    "\n",
    "useless_profile_title_list = ['STU_ID_PROXY','UG_course','CODE_DESCR_bach','FACULTY_CODE_mast','LANGUAGE_TEST_SCORE','LANGUAGE_TEST_TYPE']+['FACULTY_CODE_mast']\n",
    "# data cleaning, to sparse, or useless\n",
    "useful_profile_title_list= list(set(profile_title_list)-set(useless_profile_title_list))\n",
    "column_title_need_onehotEncode = ['COURSE_CREDITS_REQ_bach','FACULTY_CODE_bach','LOCATION_CODE_bach','top5_bach_bach',\n",
    "                                  'AGE_BAND','STATE','HOME_LANGUAGE','ATAR_BAND',\n",
    "                                  'COURSE_CREDITS_REQ_mast','LOCATION_CODE_mast','STUDY_YEAR_mast','N_SUBJECTS_mast']\n",
    "X.isnull().sum().sum()\n",
    "\n",
    "print(\"X has size:\",X.shape)\n"
   ]
  },
  {
   "cell_type": "code",
   "execution_count": 25,
   "metadata": {},
   "outputs": [
    {
     "name": "stdout",
     "output_type": "stream",
     "text": [
      "X has size: (5437, 89)  and y has size: (5437,)\n"
     ]
    }
   ],
   "source": [
    "\n",
    "from sklearn.preprocessing import LabelBinarizer\n",
    "from sklearn.preprocessing import OneHotEncoder\n",
    "\n",
    "####binary encoder\n",
    "encoder = LabelBinarizer()\n",
    "# Y_values = encoder.fit_transform(y[\"COURSE_CODE\"].values)\n",
    "Y_values = y[\"COURSE_CODE\"].values\n",
    "X_part1 = pd.DataFrame({})\n",
    "for column in column_title_need_onehotEncode:\n",
    "    column_values=X[column_title_need_onehotEncode][column].astype(str)\n",
    "    binarised_x = encoder.fit_transform(column_values.values)\n",
    "    X_part1 = pd.concat([X_part1,pd.DataFrame(binarised_x)],axis=1)\n",
    "X_part2 = X[list(set(useful_profile_title_list)-set(column_title_need_onehotEncode))]\n",
    "X_part2 = X_part2.reset_index(drop=True)\n",
    "X_values = pd.concat([pd.DataFrame(X_part1),X_part2], axis = 1)\n",
    "\n",
    "print(\"X has size:\",X_values.shape, \" and y has size:\",Y_values.shape)\n"
   ]
  },
  {
   "cell_type": "markdown",
   "metadata": {},
   "source": [
    "# modelling without Synthetic\n",
    "\n"
   ]
  },
  {
   "cell_type": "code",
   "execution_count": 59,
   "metadata": {},
   "outputs": [],
   "source": [
    "def accuracy_at_n(n,recomm,Ytest,order = \"1_to_n\"):\n",
    "    res = [0]*n\n",
    "    total = len(Ytest)\n",
    "    i =[0]*n\n",
    "    j = list(range(n))[1:]+[n]\n",
    "    if order == \"n_to_1\":\n",
    "        i= list(range(n))\n",
    "        i = list(map(lambda x: -1*x, i))[1:]+[0]\n",
    "        j = [n]*n\n",
    "    Ytest = Ytest.reset_index(drop = True)\n",
    "    for index, row in recomm.iterrows():\n",
    "        for each in range(n):\n",
    "            if Ytest[index] in row.values[i[each]:j[each]]:\n",
    "                res[each] +=1   \n",
    "    res = list(map(lambda x:round(x/total,3), res))\n",
    "    return res,order\n"
   ]
  },
  {
   "cell_type": "code",
   "execution_count": 60,
   "metadata": {},
   "outputs": [],
   "source": [
    "from sklearn import metrics\n",
    "\n",
    "def add_res(n,res,model,method,SynData,X_train,X_test,Y_test):\n",
    "    Y_pred = model.predict(X_test)\n",
    "    probs = model.predict_proba(X_test) \n",
    "    n=n\n",
    "    best_n = np.argsort(-probs, axis=1)[:,:-n]\n",
    "    #then find the associated SOC code for each prediction\n",
    "    top_class = cls.classes_[best_n]\n",
    "    #cast to a new dataframe\n",
    "    top_class_df = pd.DataFrame(data=top_class)    \n",
    "#     print(top_class_df[:5])\n",
    "    acc,order = accuracy_at_n(n,top_class_df,Y_test)\n",
    "    this_row = {\"method\":method,\n",
    "            \"with Synthetic Data\":SynData,\n",
    "            \"Train set size\":int(X_train.shape[0]),\n",
    "            \"Test set size\":int(X_test.shape[0]),\n",
    "             \"f1_score_weighted\":metrics.f1_score(Y_test, Y_pred, average=\"weighted\"),\n",
    "            \"accuracy_score\":metrics.accuracy_score(Y_test, Y_pred),}\n",
    "    for i in range(n):\n",
    "        this_row[\"accuracy at \"+str(i+1)] = acc[i]\n",
    "    res = res.append(this_row,ignore_index=True)\n",
    "    return res\n",
    "\n"
   ]
  },
  {
   "cell_type": "code",
   "execution_count": 61,
   "metadata": {},
   "outputs": [],
   "source": [
    "from sklearn.model_selection import train_test_split\n",
    "import numpy as np\n",
    "X_train, X_test, Y_train, Y_test = train_test_split(X_values.values, Y_values, test_size=0.2, random_state=27)\n",
    "\n",
    "res_dict = pd.DataFrame(data = {\"method\":[],\n",
    "            \"with Synthetic Data\":[],\n",
    "            \"Train set size\":[],\n",
    "            \"Test set size\":[],\n",
    "             \"f1_score_weighted\":[],\n",
    "            \"accuracy_score\":[],\n",
    "            })\n",
    "n=10"
   ]
  },
  {
   "cell_type": "code",
   "execution_count": 62,
   "metadata": {},
   "outputs": [
    {
     "name": "stdout",
     "output_type": "stream",
     "text": [
      "Time in seconds:  0.6259506000001238\n"
     ]
    },
    {
     "name": "stderr",
     "output_type": "stream",
     "text": [
      "D:\\Anaconda\\ana\\lib\\site-packages\\sklearn\\metrics\\classification.py:1437: UndefinedMetricWarning: F-score is ill-defined and being set to 0.0 in labels with no predicted samples.\n",
      "  'precision', 'predicted', average, warn_for)\n",
      "D:\\Anaconda\\ana\\lib\\site-packages\\sklearn\\metrics\\classification.py:1439: UndefinedMetricWarning: F-score is ill-defined and being set to 0.0 in labels with no true samples.\n",
      "  'recall', 'true', average, warn_for)\n"
     ]
    }
   ],
   "source": [
    "\n",
    "import timeit\n",
    "\n",
    "start = timeit.default_timer()\n",
    "from sklearn.tree import DecisionTreeClassifier\n",
    "from sklearn import metrics\n",
    "\n",
    "cls = DecisionTreeClassifier()\n",
    "cls.fit(X_train, Y_train)\n",
    "\n",
    "res_dict = add_res(n,res_dict,cls,\"DecisionTreeClassifier\",False,X_train,X_test,Y_test)\n",
    "\n",
    "stop = timeit.default_timer()\n",
    "print('Time in seconds: ', stop - start) "
   ]
  },
  {
   "cell_type": "code",
   "execution_count": 63,
   "metadata": {
    "scrolled": true
   },
   "outputs": [
    {
     "data": {
      "text/html": [
       "<div>\n",
       "<style scoped>\n",
       "    .dataframe tbody tr th:only-of-type {\n",
       "        vertical-align: middle;\n",
       "    }\n",
       "\n",
       "    .dataframe tbody tr th {\n",
       "        vertical-align: top;\n",
       "    }\n",
       "\n",
       "    .dataframe thead th {\n",
       "        text-align: right;\n",
       "    }\n",
       "</style>\n",
       "<table border=\"1\" class=\"dataframe\">\n",
       "  <thead>\n",
       "    <tr style=\"text-align: right;\">\n",
       "      <th></th>\n",
       "      <th>method</th>\n",
       "      <th>with Synthetic Data</th>\n",
       "      <th>Train set size</th>\n",
       "      <th>Test set size</th>\n",
       "      <th>f1_score_weighted</th>\n",
       "      <th>accuracy_score</th>\n",
       "      <th>accuracy at 1</th>\n",
       "      <th>accuracy at 10</th>\n",
       "      <th>accuracy at 2</th>\n",
       "      <th>accuracy at 3</th>\n",
       "      <th>accuracy at 4</th>\n",
       "      <th>accuracy at 5</th>\n",
       "      <th>accuracy at 6</th>\n",
       "      <th>accuracy at 7</th>\n",
       "      <th>accuracy at 8</th>\n",
       "      <th>accuracy at 9</th>\n",
       "    </tr>\n",
       "  </thead>\n",
       "  <tbody>\n",
       "    <tr>\n",
       "      <th>0</th>\n",
       "      <td>DecisionTreeClassifier</td>\n",
       "      <td>0.0</td>\n",
       "      <td>4349.0</td>\n",
       "      <td>1088.0</td>\n",
       "      <td>0.541393</td>\n",
       "      <td>0.54136</td>\n",
       "      <td>0.541</td>\n",
       "      <td>0.588</td>\n",
       "      <td>0.543</td>\n",
       "      <td>0.551</td>\n",
       "      <td>0.561</td>\n",
       "      <td>0.567</td>\n",
       "      <td>0.569</td>\n",
       "      <td>0.571</td>\n",
       "      <td>0.585</td>\n",
       "      <td>0.587</td>\n",
       "    </tr>\n",
       "  </tbody>\n",
       "</table>\n",
       "</div>"
      ],
      "text/plain": [
       "                   method  with Synthetic Data  Train set size  Test set size  \\\n",
       "0  DecisionTreeClassifier                  0.0          4349.0         1088.0   \n",
       "\n",
       "   f1_score_weighted  accuracy_score  accuracy at 1  accuracy at 10  \\\n",
       "0           0.541393         0.54136          0.541           0.588   \n",
       "\n",
       "   accuracy at 2  accuracy at 3  accuracy at 4  accuracy at 5  accuracy at 6  \\\n",
       "0          0.543          0.551          0.561          0.567          0.569   \n",
       "\n",
       "   accuracy at 7  accuracy at 8  accuracy at 9  \n",
       "0          0.571          0.585          0.587  "
      ]
     },
     "execution_count": 63,
     "metadata": {},
     "output_type": "execute_result"
    }
   ],
   "source": [
    "res_dict\n",
    "\n",
    "# print(top_class_df)\n"
   ]
  },
  {
   "cell_type": "code",
   "execution_count": 64,
   "metadata": {},
   "outputs": [
    {
     "name": "stdout",
     "output_type": "stream",
     "text": [
      "Time in seconds:  0.8100087000000258\n"
     ]
    },
    {
     "name": "stderr",
     "output_type": "stream",
     "text": [
      "D:\\Anaconda\\ana\\lib\\site-packages\\sklearn\\metrics\\classification.py:1437: UndefinedMetricWarning: F-score is ill-defined and being set to 0.0 in labels with no predicted samples.\n",
      "  'precision', 'predicted', average, warn_for)\n",
      "D:\\Anaconda\\ana\\lib\\site-packages\\sklearn\\metrics\\classification.py:1439: UndefinedMetricWarning: F-score is ill-defined and being set to 0.0 in labels with no true samples.\n",
      "  'recall', 'true', average, warn_for)\n"
     ]
    }
   ],
   "source": [
    "import timeit\n",
    "\n",
    "start = timeit.default_timer()\n",
    "\n",
    "from sklearn.naive_bayes import BernoulliNB\n",
    "clf = BernoulliNB()\n",
    "cls.fit(X_train, Y_train)\n",
    "res_dict = add_res(10,res_dict,cls,\"BernoulliNB\",False,X_train,X_test,Y_test)\n",
    "stop = timeit.default_timer()\n",
    "print('Time in seconds: ', stop - start) "
   ]
  },
  {
   "cell_type": "code",
   "execution_count": 65,
   "metadata": {},
   "outputs": [
    {
     "name": "stdout",
     "output_type": "stream",
     "text": [
      "Time in seconds:  1.59380259999989\n"
     ]
    },
    {
     "name": "stderr",
     "output_type": "stream",
     "text": [
      "D:\\Anaconda\\ana\\lib\\site-packages\\sklearn\\metrics\\classification.py:1437: UndefinedMetricWarning: F-score is ill-defined and being set to 0.0 in labels with no predicted samples.\n",
      "  'precision', 'predicted', average, warn_for)\n",
      "D:\\Anaconda\\ana\\lib\\site-packages\\sklearn\\metrics\\classification.py:1439: UndefinedMetricWarning: F-score is ill-defined and being set to 0.0 in labels with no true samples.\n",
      "  'recall', 'true', average, warn_for)\n"
     ]
    }
   ],
   "source": [
    "import timeit\n",
    "\n",
    "start = timeit.default_timer()\n",
    "\n",
    "from sklearn.naive_bayes import GaussianNB\n",
    "clf = GaussianNB()\n",
    "cls.fit(X_train, Y_train)\n",
    "res_dict = add_res(10,res_dict,cls,\"GaussianNB\",False,X_train,X_test,Y_test)\n",
    "\n",
    "stop = timeit.default_timer()\n",
    "print('Time in seconds: ', stop - start) \n"
   ]
  },
  {
   "cell_type": "code",
   "execution_count": 66,
   "metadata": {},
   "outputs": [
    {
     "name": "stderr",
     "output_type": "stream",
     "text": [
      "D:\\Anaconda\\ana\\lib\\site-packages\\sklearn\\model_selection\\_split.py:657: Warning: The least populated class in y has only 1 members, which is too few. The minimum number of members in any class cannot be less than n_splits=3.\n",
      "  % (min_groups, self.n_splits)), Warning)\n"
     ]
    },
    {
     "name": "stdout",
     "output_type": "stream",
     "text": [
      "Fitting 3 folds for each of 11 candidates, totalling 33 fits\n"
     ]
    },
    {
     "name": "stderr",
     "output_type": "stream",
     "text": [
      "[Parallel(n_jobs=-1)]: Using backend LokyBackend with 4 concurrent workers.\n",
      "[Parallel(n_jobs=-1)]: Done  33 out of  33 | elapsed:   14.4s finished\n",
      "D:\\Anaconda\\ana\\lib\\site-packages\\sklearn\\model_selection\\_search.py:813: DeprecationWarning: The default of the `iid` parameter will change from True to False in version 0.22 and will be removed in 0.24. This will change numeric results when test-set sizes are unequal.\n",
      "  DeprecationWarning)\n"
     ]
    },
    {
     "name": "stdout",
     "output_type": "stream",
     "text": [
      "best parameters are: {'metric': 'manhattan', 'n_neighbors': 65, 'weights': 'uniform'}\n",
      "best result is : 0.33731892389054957\n",
      "Time in seconds:  15.772782899999811\n"
     ]
    },
    {
     "name": "stderr",
     "output_type": "stream",
     "text": [
      "D:\\Anaconda\\ana\\lib\\site-packages\\sklearn\\metrics\\classification.py:1437: UndefinedMetricWarning: F-score is ill-defined and being set to 0.0 in labels with no predicted samples.\n",
      "  'precision', 'predicted', average, warn_for)\n"
     ]
    }
   ],
   "source": [
    "import timeit\n",
    "start = timeit.default_timer()\n",
    "\n",
    "from sklearn.model_selection import GridSearchCV\n",
    "from sklearn.neighbors import KNeighborsClassifier\n",
    "\n",
    "grid_params = {'n_neighbors':[40,50,55,60,65,70,75,80,85,90,100],\n",
    "              'weights':['uniform',],\n",
    "              'metric':['manhattan']}\n",
    "grid = GridSearchCV(KNeighborsClassifier(),grid_params,verbose = 1,cv=3,n_jobs = -1)\n",
    "cls  = grid.fit(X_train, Y_train)\n",
    "best_parameters = grid.best_params_\n",
    "print(\"best parameters are:\",best_parameters)\n",
    "best_result = grid.best_score_\n",
    "print(\"best result is :\",best_result)\n",
    "\n",
    "res_dict = add_res(10,res_dict,cls,\"KNeighborsClassifier\",False,X_train,X_test,Y_test)\n",
    "\n",
    "stop = timeit.default_timer()\n",
    "print('Time in seconds: ', stop - start) "
   ]
  },
  {
   "cell_type": "code",
   "execution_count": 67,
   "metadata": {},
   "outputs": [
    {
     "data": {
      "text/html": [
       "<div>\n",
       "<style scoped>\n",
       "    .dataframe tbody tr th:only-of-type {\n",
       "        vertical-align: middle;\n",
       "    }\n",
       "\n",
       "    .dataframe tbody tr th {\n",
       "        vertical-align: top;\n",
       "    }\n",
       "\n",
       "    .dataframe thead th {\n",
       "        text-align: right;\n",
       "    }\n",
       "</style>\n",
       "<table border=\"1\" class=\"dataframe\">\n",
       "  <thead>\n",
       "    <tr style=\"text-align: right;\">\n",
       "      <th></th>\n",
       "      <th>method</th>\n",
       "      <th>with Synthetic Data</th>\n",
       "      <th>Train set size</th>\n",
       "      <th>Test set size</th>\n",
       "      <th>f1_score_weighted</th>\n",
       "      <th>accuracy_score</th>\n",
       "      <th>accuracy at 1</th>\n",
       "      <th>accuracy at 10</th>\n",
       "      <th>accuracy at 2</th>\n",
       "      <th>accuracy at 3</th>\n",
       "      <th>accuracy at 4</th>\n",
       "      <th>accuracy at 5</th>\n",
       "      <th>accuracy at 6</th>\n",
       "      <th>accuracy at 7</th>\n",
       "      <th>accuracy at 8</th>\n",
       "      <th>accuracy at 9</th>\n",
       "    </tr>\n",
       "  </thead>\n",
       "  <tbody>\n",
       "    <tr>\n",
       "      <th>0</th>\n",
       "      <td>DecisionTreeClassifier</td>\n",
       "      <td>0.0</td>\n",
       "      <td>4349.0</td>\n",
       "      <td>1088.0</td>\n",
       "      <td>0.541393</td>\n",
       "      <td>0.541360</td>\n",
       "      <td>0.541</td>\n",
       "      <td>0.588</td>\n",
       "      <td>0.543</td>\n",
       "      <td>0.551</td>\n",
       "      <td>0.561</td>\n",
       "      <td>0.567</td>\n",
       "      <td>0.569</td>\n",
       "      <td>0.571</td>\n",
       "      <td>0.585</td>\n",
       "      <td>0.587</td>\n",
       "    </tr>\n",
       "    <tr>\n",
       "      <th>1</th>\n",
       "      <td>BernoulliNB</td>\n",
       "      <td>0.0</td>\n",
       "      <td>4349.0</td>\n",
       "      <td>1088.0</td>\n",
       "      <td>0.535342</td>\n",
       "      <td>0.530331</td>\n",
       "      <td>0.530</td>\n",
       "      <td>0.577</td>\n",
       "      <td>0.532</td>\n",
       "      <td>0.540</td>\n",
       "      <td>0.546</td>\n",
       "      <td>0.554</td>\n",
       "      <td>0.556</td>\n",
       "      <td>0.559</td>\n",
       "      <td>0.571</td>\n",
       "      <td>0.574</td>\n",
       "    </tr>\n",
       "    <tr>\n",
       "      <th>2</th>\n",
       "      <td>GaussianNB</td>\n",
       "      <td>0.0</td>\n",
       "      <td>4349.0</td>\n",
       "      <td>1088.0</td>\n",
       "      <td>0.542271</td>\n",
       "      <td>0.534926</td>\n",
       "      <td>0.535</td>\n",
       "      <td>0.583</td>\n",
       "      <td>0.537</td>\n",
       "      <td>0.546</td>\n",
       "      <td>0.551</td>\n",
       "      <td>0.560</td>\n",
       "      <td>0.561</td>\n",
       "      <td>0.563</td>\n",
       "      <td>0.574</td>\n",
       "      <td>0.580</td>\n",
       "    </tr>\n",
       "    <tr>\n",
       "      <th>3</th>\n",
       "      <td>KNeighborsClassifier</td>\n",
       "      <td>0.0</td>\n",
       "      <td>4349.0</td>\n",
       "      <td>1088.0</td>\n",
       "      <td>0.225264</td>\n",
       "      <td>0.336397</td>\n",
       "      <td>0.336</td>\n",
       "      <td>0.701</td>\n",
       "      <td>0.457</td>\n",
       "      <td>0.530</td>\n",
       "      <td>0.574</td>\n",
       "      <td>0.606</td>\n",
       "      <td>0.631</td>\n",
       "      <td>0.656</td>\n",
       "      <td>0.671</td>\n",
       "      <td>0.688</td>\n",
       "    </tr>\n",
       "  </tbody>\n",
       "</table>\n",
       "</div>"
      ],
      "text/plain": [
       "                   method  with Synthetic Data  Train set size  Test set size  \\\n",
       "0  DecisionTreeClassifier                  0.0          4349.0         1088.0   \n",
       "1             BernoulliNB                  0.0          4349.0         1088.0   \n",
       "2              GaussianNB                  0.0          4349.0         1088.0   \n",
       "3    KNeighborsClassifier                  0.0          4349.0         1088.0   \n",
       "\n",
       "   f1_score_weighted  accuracy_score  accuracy at 1  accuracy at 10  \\\n",
       "0           0.541393        0.541360          0.541           0.588   \n",
       "1           0.535342        0.530331          0.530           0.577   \n",
       "2           0.542271        0.534926          0.535           0.583   \n",
       "3           0.225264        0.336397          0.336           0.701   \n",
       "\n",
       "   accuracy at 2  accuracy at 3  accuracy at 4  accuracy at 5  accuracy at 6  \\\n",
       "0          0.543          0.551          0.561          0.567          0.569   \n",
       "1          0.532          0.540          0.546          0.554          0.556   \n",
       "2          0.537          0.546          0.551          0.560          0.561   \n",
       "3          0.457          0.530          0.574          0.606          0.631   \n",
       "\n",
       "   accuracy at 7  accuracy at 8  accuracy at 9  \n",
       "0          0.571          0.585          0.587  \n",
       "1          0.559          0.571          0.574  \n",
       "2          0.563          0.574          0.580  \n",
       "3          0.656          0.671          0.688  "
      ]
     },
     "execution_count": 67,
     "metadata": {},
     "output_type": "execute_result"
    }
   ],
   "source": [
    "res_dict"
   ]
  },
  {
   "cell_type": "markdown",
   "metadata": {},
   "source": [
    "# Modelling With Synthetic"
   ]
  },
  {
   "cell_type": "code",
   "execution_count": 68,
   "metadata": {},
   "outputs": [
    {
     "name": "stdout",
     "output_type": "stream",
     "text": [
      "(5437, 169)\n"
     ]
    }
   ],
   "source": [
    "\n",
    "X_part2 = X_part2.reset_index(drop = True)\n",
    "X_part1 = X_part1.reset_index(drop = True)\n",
    "X_part3 = X[subject_course_list]\n",
    "X_part3= X_part3.reset_index(drop = True)\n",
    "X2_values = pd.concat([pd.DataFrame(X_part1),X_part2,X_part3],axis = 1)\n",
    "print(X2_values.shape)\n",
    "from sklearn.model_selection import train_test_split\n",
    "import numpy as np\n",
    "X2_train, X2_test, Y2_train, Y2_test = train_test_split(X2_values.values, Y_values, test_size=0.2, random_state=27)\n"
   ]
  },
  {
   "cell_type": "markdown",
   "metadata": {},
   "source": [
    "### Decision Tree"
   ]
  },
  {
   "cell_type": "code",
   "execution_count": 69,
   "metadata": {},
   "outputs": [
    {
     "name": "stdout",
     "output_type": "stream",
     "text": [
      "Time in seconds:  1.396229299999959\n"
     ]
    },
    {
     "name": "stderr",
     "output_type": "stream",
     "text": [
      "D:\\Anaconda\\ana\\lib\\site-packages\\sklearn\\metrics\\classification.py:1437: UndefinedMetricWarning: F-score is ill-defined and being set to 0.0 in labels with no predicted samples.\n",
      "  'precision', 'predicted', average, warn_for)\n",
      "D:\\Anaconda\\ana\\lib\\site-packages\\sklearn\\metrics\\classification.py:1439: UndefinedMetricWarning: F-score is ill-defined and being set to 0.0 in labels with no true samples.\n",
      "  'recall', 'true', average, warn_for)\n"
     ]
    }
   ],
   "source": [
    "\n",
    "import timeit\n",
    "\n",
    "start = timeit.default_timer()\n",
    "from sklearn.tree import DecisionTreeClassifier\n",
    "from sklearn import metrics\n",
    "\n",
    "cls = DecisionTreeClassifier()\n",
    "cls.fit(X2_train, Y2_train)\n",
    "res_dict = add_res(10,res_dict,cls,\"DecisionTreeClassifier\",True,X2_train,X2_test,Y2_test)\n",
    "\n",
    "stop = timeit.default_timer()\n",
    "print('Time in seconds: ', stop - start) "
   ]
  },
  {
   "cell_type": "markdown",
   "metadata": {},
   "source": [
    "### Naive Bayes"
   ]
  },
  {
   "cell_type": "code",
   "execution_count": 70,
   "metadata": {},
   "outputs": [
    {
     "name": "stdout",
     "output_type": "stream",
     "text": [
      "Time in seconds:  1.2608674999999039\n"
     ]
    },
    {
     "name": "stderr",
     "output_type": "stream",
     "text": [
      "D:\\Anaconda\\ana\\lib\\site-packages\\sklearn\\metrics\\classification.py:1437: UndefinedMetricWarning: F-score is ill-defined and being set to 0.0 in labels with no predicted samples.\n",
      "  'precision', 'predicted', average, warn_for)\n",
      "D:\\Anaconda\\ana\\lib\\site-packages\\sklearn\\metrics\\classification.py:1439: UndefinedMetricWarning: F-score is ill-defined and being set to 0.0 in labels with no true samples.\n",
      "  'recall', 'true', average, warn_for)\n"
     ]
    }
   ],
   "source": [
    "import timeit\n",
    "\n",
    "start = timeit.default_timer()\n",
    "\n",
    "from sklearn.naive_bayes import BernoulliNB\n",
    "clf = BernoulliNB()\n",
    "cls.fit(X2_train, Y2_train)\n",
    "res_dict = add_res(10,res_dict,cls,\"BernoulliNB\",True,X2_train,X2_test,Y2_test)\n",
    "\n",
    "stop = timeit.default_timer()\n",
    "print('Time in seconds: ', stop - start) "
   ]
  },
  {
   "cell_type": "code",
   "execution_count": 71,
   "metadata": {},
   "outputs": [
    {
     "name": "stdout",
     "output_type": "stream",
     "text": [
      "Time in seconds:  1.7741792000001624\n"
     ]
    },
    {
     "name": "stderr",
     "output_type": "stream",
     "text": [
      "D:\\Anaconda\\ana\\lib\\site-packages\\sklearn\\metrics\\classification.py:1437: UndefinedMetricWarning: F-score is ill-defined and being set to 0.0 in labels with no predicted samples.\n",
      "  'precision', 'predicted', average, warn_for)\n",
      "D:\\Anaconda\\ana\\lib\\site-packages\\sklearn\\metrics\\classification.py:1439: UndefinedMetricWarning: F-score is ill-defined and being set to 0.0 in labels with no true samples.\n",
      "  'recall', 'true', average, warn_for)\n"
     ]
    }
   ],
   "source": [
    "import timeit\n",
    "\n",
    "start = timeit.default_timer()\n",
    "\n",
    "from sklearn.naive_bayes import GaussianNB\n",
    "clf = GaussianNB()\n",
    "cls.fit(X2_train, Y2_train)\n",
    "res_dict = add_res(10,res_dict,cls,\"GaussianNB\",True,X2_train,X2_test,Y2_test)\n",
    "\n",
    "stop = timeit.default_timer()\n",
    "print('Time in seconds: ', stop - start) \n"
   ]
  },
  {
   "cell_type": "code",
   "execution_count": 72,
   "metadata": {},
   "outputs": [
    {
     "name": "stderr",
     "output_type": "stream",
     "text": [
      "D:\\Anaconda\\ana\\lib\\site-packages\\sklearn\\model_selection\\_split.py:657: Warning: The least populated class in y has only 1 members, which is too few. The minimum number of members in any class cannot be less than n_splits=3.\n",
      "  % (min_groups, self.n_splits)), Warning)\n"
     ]
    },
    {
     "name": "stdout",
     "output_type": "stream",
     "text": [
      "Fitting 3 folds for each of 13 candidates, totalling 39 fits\n"
     ]
    },
    {
     "name": "stderr",
     "output_type": "stream",
     "text": [
      "[Parallel(n_jobs=-1)]: Using backend LokyBackend with 4 concurrent workers.\n",
      "[Parallel(n_jobs=-1)]: Done  39 out of  39 | elapsed:   11.7s finished\n",
      "D:\\Anaconda\\ana\\lib\\site-packages\\sklearn\\model_selection\\_search.py:813: DeprecationWarning: The default of the `iid` parameter will change from True to False in version 0.22 and will be removed in 0.24. This will change numeric results when test-set sizes are unequal.\n",
      "  DeprecationWarning)\n"
     ]
    },
    {
     "name": "stdout",
     "output_type": "stream",
     "text": [
      "best parameters are: {'metric': 'manhattan', 'n_neighbors': 55, 'weights': 'uniform'}\n",
      "best result is : 0.3432973097263739\n",
      "Time in seconds:  13.612356599999885\n"
     ]
    },
    {
     "name": "stderr",
     "output_type": "stream",
     "text": [
      "D:\\Anaconda\\ana\\lib\\site-packages\\sklearn\\metrics\\classification.py:1437: UndefinedMetricWarning: F-score is ill-defined and being set to 0.0 in labels with no predicted samples.\n",
      "  'precision', 'predicted', average, warn_for)\n"
     ]
    }
   ],
   "source": [
    "import timeit\n",
    "start = timeit.default_timer()\n",
    "from sklearn.neighbors import KNeighborsClassifier\n",
    "\n",
    "from sklearn.model_selection import GridSearchCV\n",
    "grid_params = {'n_neighbors':[30,40,50,55,60,65,70,75,80,85,90,95,100],\n",
    "              'weights':['uniform'],\n",
    "              'metric':['manhattan']}\n",
    "grid2 = GridSearchCV(KNeighborsClassifier(),grid_params,verbose = 1,cv=3,n_jobs = -1)\n",
    "cls2  = grid2.fit(X2_train, Y2_train)\n",
    "\n",
    "best_parameters = grid2.best_params_\n",
    "print(\"best parameters are:\",best_parameters)\n",
    "best_result = grid2.best_score_\n",
    "print(\"best result is :\",best_result)\n",
    "res_dict = add_res(10,res_dict,cls2,\"KNeighborsClassifier\",True,X2_train,X2_test,Y2_test)\n",
    "\n",
    "stop = timeit.default_timer()\n",
    "print('Time in seconds: ', stop - start) "
   ]
  },
  {
   "cell_type": "code",
   "execution_count": 73,
   "metadata": {},
   "outputs": [
    {
     "data": {
      "text/html": [
       "<div>\n",
       "<style scoped>\n",
       "    .dataframe tbody tr th:only-of-type {\n",
       "        vertical-align: middle;\n",
       "    }\n",
       "\n",
       "    .dataframe tbody tr th {\n",
       "        vertical-align: top;\n",
       "    }\n",
       "\n",
       "    .dataframe thead th {\n",
       "        text-align: right;\n",
       "    }\n",
       "</style>\n",
       "<table border=\"1\" class=\"dataframe\">\n",
       "  <thead>\n",
       "    <tr style=\"text-align: right;\">\n",
       "      <th></th>\n",
       "      <th>method</th>\n",
       "      <th>with Synthetic Data</th>\n",
       "      <th>Train set size</th>\n",
       "      <th>Test set size</th>\n",
       "      <th>f1_score_weighted</th>\n",
       "      <th>accuracy_score</th>\n",
       "      <th>accuracy at 1</th>\n",
       "      <th>accuracy at 10</th>\n",
       "      <th>accuracy at 2</th>\n",
       "      <th>accuracy at 3</th>\n",
       "      <th>accuracy at 4</th>\n",
       "      <th>accuracy at 5</th>\n",
       "      <th>accuracy at 6</th>\n",
       "      <th>accuracy at 7</th>\n",
       "      <th>accuracy at 8</th>\n",
       "      <th>accuracy at 9</th>\n",
       "    </tr>\n",
       "  </thead>\n",
       "  <tbody>\n",
       "    <tr>\n",
       "      <th>0</th>\n",
       "      <td>DecisionTreeClassifier</td>\n",
       "      <td>0.0</td>\n",
       "      <td>4349.0</td>\n",
       "      <td>1088.0</td>\n",
       "      <td>0.541393</td>\n",
       "      <td>0.541360</td>\n",
       "      <td>0.541</td>\n",
       "      <td>0.588</td>\n",
       "      <td>0.543</td>\n",
       "      <td>0.551</td>\n",
       "      <td>0.561</td>\n",
       "      <td>0.567</td>\n",
       "      <td>0.569</td>\n",
       "      <td>0.571</td>\n",
       "      <td>0.585</td>\n",
       "      <td>0.587</td>\n",
       "    </tr>\n",
       "    <tr>\n",
       "      <th>1</th>\n",
       "      <td>BernoulliNB</td>\n",
       "      <td>0.0</td>\n",
       "      <td>4349.0</td>\n",
       "      <td>1088.0</td>\n",
       "      <td>0.535342</td>\n",
       "      <td>0.530331</td>\n",
       "      <td>0.530</td>\n",
       "      <td>0.577</td>\n",
       "      <td>0.532</td>\n",
       "      <td>0.540</td>\n",
       "      <td>0.546</td>\n",
       "      <td>0.554</td>\n",
       "      <td>0.556</td>\n",
       "      <td>0.559</td>\n",
       "      <td>0.571</td>\n",
       "      <td>0.574</td>\n",
       "    </tr>\n",
       "    <tr>\n",
       "      <th>2</th>\n",
       "      <td>GaussianNB</td>\n",
       "      <td>0.0</td>\n",
       "      <td>4349.0</td>\n",
       "      <td>1088.0</td>\n",
       "      <td>0.542271</td>\n",
       "      <td>0.534926</td>\n",
       "      <td>0.535</td>\n",
       "      <td>0.583</td>\n",
       "      <td>0.537</td>\n",
       "      <td>0.546</td>\n",
       "      <td>0.551</td>\n",
       "      <td>0.560</td>\n",
       "      <td>0.561</td>\n",
       "      <td>0.563</td>\n",
       "      <td>0.574</td>\n",
       "      <td>0.580</td>\n",
       "    </tr>\n",
       "    <tr>\n",
       "      <th>3</th>\n",
       "      <td>KNeighborsClassifier</td>\n",
       "      <td>0.0</td>\n",
       "      <td>4349.0</td>\n",
       "      <td>1088.0</td>\n",
       "      <td>0.225264</td>\n",
       "      <td>0.336397</td>\n",
       "      <td>0.336</td>\n",
       "      <td>0.701</td>\n",
       "      <td>0.457</td>\n",
       "      <td>0.530</td>\n",
       "      <td>0.574</td>\n",
       "      <td>0.606</td>\n",
       "      <td>0.631</td>\n",
       "      <td>0.656</td>\n",
       "      <td>0.671</td>\n",
       "      <td>0.688</td>\n",
       "    </tr>\n",
       "    <tr>\n",
       "      <th>4</th>\n",
       "      <td>DecisionTreeClassifier</td>\n",
       "      <td>1.0</td>\n",
       "      <td>4349.0</td>\n",
       "      <td>1088.0</td>\n",
       "      <td>0.521555</td>\n",
       "      <td>0.518382</td>\n",
       "      <td>0.518</td>\n",
       "      <td>0.563</td>\n",
       "      <td>0.519</td>\n",
       "      <td>0.526</td>\n",
       "      <td>0.535</td>\n",
       "      <td>0.541</td>\n",
       "      <td>0.543</td>\n",
       "      <td>0.544</td>\n",
       "      <td>0.559</td>\n",
       "      <td>0.562</td>\n",
       "    </tr>\n",
       "    <tr>\n",
       "      <th>5</th>\n",
       "      <td>BernoulliNB</td>\n",
       "      <td>1.0</td>\n",
       "      <td>4349.0</td>\n",
       "      <td>1088.0</td>\n",
       "      <td>0.528596</td>\n",
       "      <td>0.526654</td>\n",
       "      <td>0.527</td>\n",
       "      <td>0.569</td>\n",
       "      <td>0.528</td>\n",
       "      <td>0.532</td>\n",
       "      <td>0.543</td>\n",
       "      <td>0.550</td>\n",
       "      <td>0.551</td>\n",
       "      <td>0.551</td>\n",
       "      <td>0.563</td>\n",
       "      <td>0.566</td>\n",
       "    </tr>\n",
       "    <tr>\n",
       "      <th>6</th>\n",
       "      <td>GaussianNB</td>\n",
       "      <td>1.0</td>\n",
       "      <td>4349.0</td>\n",
       "      <td>1088.0</td>\n",
       "      <td>0.514264</td>\n",
       "      <td>0.513787</td>\n",
       "      <td>0.514</td>\n",
       "      <td>0.558</td>\n",
       "      <td>0.516</td>\n",
       "      <td>0.521</td>\n",
       "      <td>0.531</td>\n",
       "      <td>0.539</td>\n",
       "      <td>0.540</td>\n",
       "      <td>0.540</td>\n",
       "      <td>0.553</td>\n",
       "      <td>0.556</td>\n",
       "    </tr>\n",
       "    <tr>\n",
       "      <th>7</th>\n",
       "      <td>KNeighborsClassifier</td>\n",
       "      <td>1.0</td>\n",
       "      <td>4349.0</td>\n",
       "      <td>1088.0</td>\n",
       "      <td>0.229371</td>\n",
       "      <td>0.337316</td>\n",
       "      <td>0.334</td>\n",
       "      <td>0.692</td>\n",
       "      <td>0.458</td>\n",
       "      <td>0.538</td>\n",
       "      <td>0.577</td>\n",
       "      <td>0.609</td>\n",
       "      <td>0.631</td>\n",
       "      <td>0.648</td>\n",
       "      <td>0.665</td>\n",
       "      <td>0.680</td>\n",
       "    </tr>\n",
       "  </tbody>\n",
       "</table>\n",
       "</div>"
      ],
      "text/plain": [
       "                   method  with Synthetic Data  Train set size  Test set size  \\\n",
       "0  DecisionTreeClassifier                  0.0          4349.0         1088.0   \n",
       "1             BernoulliNB                  0.0          4349.0         1088.0   \n",
       "2              GaussianNB                  0.0          4349.0         1088.0   \n",
       "3    KNeighborsClassifier                  0.0          4349.0         1088.0   \n",
       "4  DecisionTreeClassifier                  1.0          4349.0         1088.0   \n",
       "5             BernoulliNB                  1.0          4349.0         1088.0   \n",
       "6              GaussianNB                  1.0          4349.0         1088.0   \n",
       "7    KNeighborsClassifier                  1.0          4349.0         1088.0   \n",
       "\n",
       "   f1_score_weighted  accuracy_score  accuracy at 1  accuracy at 10  \\\n",
       "0           0.541393        0.541360          0.541           0.588   \n",
       "1           0.535342        0.530331          0.530           0.577   \n",
       "2           0.542271        0.534926          0.535           0.583   \n",
       "3           0.225264        0.336397          0.336           0.701   \n",
       "4           0.521555        0.518382          0.518           0.563   \n",
       "5           0.528596        0.526654          0.527           0.569   \n",
       "6           0.514264        0.513787          0.514           0.558   \n",
       "7           0.229371        0.337316          0.334           0.692   \n",
       "\n",
       "   accuracy at 2  accuracy at 3  accuracy at 4  accuracy at 5  accuracy at 6  \\\n",
       "0          0.543          0.551          0.561          0.567          0.569   \n",
       "1          0.532          0.540          0.546          0.554          0.556   \n",
       "2          0.537          0.546          0.551          0.560          0.561   \n",
       "3          0.457          0.530          0.574          0.606          0.631   \n",
       "4          0.519          0.526          0.535          0.541          0.543   \n",
       "5          0.528          0.532          0.543          0.550          0.551   \n",
       "6          0.516          0.521          0.531          0.539          0.540   \n",
       "7          0.458          0.538          0.577          0.609          0.631   \n",
       "\n",
       "   accuracy at 7  accuracy at 8  accuracy at 9  \n",
       "0          0.571          0.585          0.587  \n",
       "1          0.559          0.571          0.574  \n",
       "2          0.563          0.574          0.580  \n",
       "3          0.656          0.671          0.688  \n",
       "4          0.544          0.559          0.562  \n",
       "5          0.551          0.563          0.566  \n",
       "6          0.540          0.553          0.556  \n",
       "7          0.648          0.665          0.680  "
      ]
     },
     "execution_count": 73,
     "metadata": {},
     "output_type": "execute_result"
    }
   ],
   "source": [
    "res_dict"
   ]
  },
  {
   "cell_type": "code",
   "execution_count": 74,
   "metadata": {},
   "outputs": [
    {
     "data": {
      "image/png": "[encoded data removed]",
      "text/plain": [
       "<Figure size 1080x576 with 1 Axes>"
      ]
     },
     "metadata": {
      "needs_background": "light"
     },
     "output_type": "display_data"
    }
   ],
   "source": [
    "import matplotlib.pyplot as plt\n",
    "plt.figure(figsize=(15,8))\n",
    "\n",
    "x = res_dict.loc[res_dict['with Synthetic Data'] == True][\"method\"]\n",
    "for i in range(n):\n",
    "    plt.plot(x,  res_dict.loc[res_dict['with Synthetic Data'] == True]['accuracy at '+str(i+1)],\n",
    "             label =  \"'accuracy at \"+str(i+1)+\"with synthetic data\")\n",
    "x2 = res_dict.loc[res_dict['with Synthetic Data'] == False][\"method\"]\n",
    "for i in range(n):\n",
    "    plt.plot(x2,  res_dict.loc[res_dict['with Synthetic Data'] == False]['accuracy at '+str(i+1)],\n",
    "             label =  \"'accuracy at \"+str(i+1)+\"without synthetic data\", linestyle='dashed',)\n",
    "\n",
    "plt.title('Accuracy for different target-source domain')\n",
    "plt.legend(loc = 'upper left', ncol=2,)\n",
    "# Display a figure.\n",
    "plt.show()"
   ]
  },
  {
   "cell_type": "code",
   "execution_count": 75,
   "metadata": {},
   "outputs": [],
   "source": [
    "res_dict.to_csv('classification result.csv', mode='a', )\n"
   ]
  },
  {
   "cell_type": "code",
   "execution_count": null,
   "metadata": {},
   "outputs": [],
   "source": []
  }
 ],
 "metadata": {
  "kernelspec": {
   "display_name": "Python 3",
   "language": "python",
   "name": "python3"
  },
  "language_info": {
   "codemirror_mode": {
    "name": "ipython",
    "version": 3
   },
   "file_extension": ".py",
   "mimetype": "text/x-python",
   "name": "python",
   "nbconvert_exporter": "python",
   "pygments_lexer": "ipython3",
   "version": "3.7.3"
  }
 },
 "nbformat": 4,
 "nbformat_minor": 2
}
